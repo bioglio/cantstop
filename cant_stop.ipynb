{
 "cells": [
  {
   "cell_type": "code",
   "execution_count": 1,
   "metadata": {
    "collapsed": false
   },
   "outputs": [
    {
     "name": "stdout",
     "output_type": "stream",
     "text": [
      "Populating the interactive namespace from numpy and matplotlib\n"
     ]
    }
   ],
   "source": [
    "%pylab inline\n",
    "%matplotlib inline\n",
    "import numpy as np      # for math\n",
    "#import json             # for managing json files\n",
    "#import subprocess       # for launching processes\n",
    "import pandas as pd     # for managing dataframes\n",
    "import os.path"
   ]
  },
  {
   "cell_type": "code",
   "execution_count": 2,
   "metadata": {
    "collapsed": true
   },
   "outputs": [],
   "source": [
    "#http://www.aaai.org/ocs/index.php/FLAIRS/2009/paper/viewFile/123/338"
   ]
  },
  {
   "cell_type": "code",
   "execution_count": 3,
   "metadata": {
    "collapsed": false
   },
   "outputs": [],
   "source": [
    "class Combinations_probability:\n",
    "    def __init__(self):\n",
    "        filename = \"./data/combinations_probability.csv\"\n",
    "        if not(os.path.exists(filename)):\n",
    "            os.mkdir(\"data\")\n",
    "            self.__create_combinations_probability().to_csv(filename, index=False)\n",
    "        self.df = pd.read_csv(filename,low_memory=False, sep=',')\n",
    "        self.df.rename(columns=lambda x: int(x) if x.isdigit() else x, inplace=True)\n",
    "        self.num_occurrences = float(self.df[\"occurrences\"].sum())\n",
    "        return\n",
    "\n",
    "    def __create_combinations_probability(self):\n",
    "        res = self.__get_df_dices_occurrences(6, 4, 100000)\n",
    "        self.__set_couples_sum(res)\n",
    "        self.__increment_couples(res)\n",
    "        return res\n",
    "    \n",
    "    def __get_df_dices_occurrences(self, base, size, repetitions):\n",
    "        res = self.__get_df_unique_combinations(base, size)\n",
    "        res[\"occurrences\"] = 0\n",
    "        repetition = 0\n",
    "        while repetition < repetitions:\n",
    "            rand = sort(np.random.random_integers(1, high=base, size=size))\n",
    "            res.loc[self.__condition_dices(res, rand), \"occurrences\"] += 1\n",
    "            repetition += 1\n",
    "        return res\n",
    "    \n",
    "    def __get_df_unique_combinations(self, base, size):\n",
    "        return pd.DataFrame(self.__get_unique_combinations(base, size), columns=[\"dice_\"+str(x+1) for x in range(size)])\n",
    "    \n",
    "    def __get_unique_combinations(self, base, size):\n",
    "        init = [0]*size\n",
    "        res = [[x+1 for x in init]]\n",
    "        max_sum = size*(base-1)\n",
    "        while sum(init) != max_sum:\n",
    "            init[0] = (init[0] + 1)%base\n",
    "            index = 0\n",
    "            while init[index] == 0: \n",
    "                index = index + 1\n",
    "                init[index] = (init[index] + 1)%base\n",
    "            while index != 0:\n",
    "                init[index-1] = init[index]\n",
    "                index = index - 1\n",
    "            res = res + [[x+1 for x in init[::-1]]]\n",
    "        return res\n",
    "    \n",
    "    def __condition_dices(self, df, dices):\n",
    "        cond = True\n",
    "        for index, dice in enumerate(dices):\n",
    "            cond = (cond & (df[\"dice_\"+str(index+1)] == dice))\n",
    "        return cond\n",
    "    \n",
    "    def __set_couples_sum(self, df):\n",
    "        min_sum = 2 \n",
    "        max_sum = 12 \n",
    "        for index in range(min_sum, max_sum+1):\n",
    "            df[index] = 0\n",
    "        return\n",
    "    \n",
    "    def __increment_couples(self, df):\n",
    "        for i in df.index:\n",
    "            for sm in self.__get_couples_sum([ df.ix[i, \"dice_1\"], df.ix[i, \"dice_2\"], df.ix[i, \"dice_3\"], df.ix[i, \"dice_4\"] ]):\n",
    "                df.ix[i, sm] = 1\n",
    "        return\n",
    "\n",
    "    def __get_couples_sum(self, dices):\n",
    "        sums = []\n",
    "        for i in range(3):\n",
    "            sums += [dices[3]+dices[2-i]]\n",
    "            sums += [sum(dices) - (dices[3]+dices[2-i])]\n",
    "        return sums\n",
    "\n",
    "    def get_probability_to_roll(self, lst):\n",
    "        #if len(lst) < 3:\n",
    "        #    return 1.0\n",
    "        return self.df[self.__condition_sums(lst)][\"occurrences\"].sum()/self.num_occurrences\n",
    "        #return self.__condition_sums(lst)/self.num_occurrences\n",
    "        \n",
    "    def __condition_sums(self, sums_in):#, sums_out=[]):\n",
    "        cond = False\n",
    "        #for index, sm in enumerate(sums_in):\n",
    "        #    cond = (cond | (self.df[sm] == 1))\n",
    "        for sm in sums_in:\n",
    "            cond = (cond | (self.df[sm] == 1))\n",
    "        #for index, sm in enumerate(sums_out):\n",
    "        #    cond = (cond & (df[sm] == 1))\n",
    "        return cond\n",
    "        \n",
    "    def get_probability_to_roll_exclusive(self, lst):\n",
    "        return self.df[self.__condition_sums_exclusive(lst)][\"occurrences\"].sum()/self.num_occurrences\n",
    "    \n",
    "    def __condition_sums_exclusive(self, sums_in):\n",
    "        cond = True\n",
    "        for sm in [x for x in range(2,13) if x not in sums_in]:\n",
    "            cond = (cond & (self.df[sm] == 0))\n",
    "        return cond & (self.__condition_sums(sums_in))\n",
    "\n",
    "    \n"
   ]
  },
  {
   "cell_type": "code",
   "execution_count": 4,
   "metadata": {
    "collapsed": false
   },
   "outputs": [],
   "source": [
    "probs = Combinations_probability()"
   ]
  },
  {
   "cell_type": "code",
   "execution_count": 5,
   "metadata": {
    "collapsed": false
   },
   "outputs": [
    {
     "name": "stdout",
     "output_type": "stream",
     "text": [
      "0.44722\n",
      "0.73181\n",
      "0.91915\n",
      "0.00077\n",
      "0.00067\n",
      "0.00752\n"
     ]
    }
   ],
   "source": [
    "print probs.get_probability_to_roll([5])\n",
    "#print probs.get_probability_to_roll([6])\n",
    "print probs.get_probability_to_roll([5,6])\n",
    "#print probs.get_probability_to_roll([4,5])\n",
    "print probs.get_probability_to_roll([6,7,8])\n",
    "print probs.get_probability_to_roll_exclusive([4])\n",
    "print probs.get_probability_to_roll_exclusive([6])\n",
    "print probs.get_probability_to_roll_exclusive([4,6])"
   ]
  },
  {
   "cell_type": "markdown",
   "metadata": {
    "collapsed": true
   },
   "source": [
    "game simulation"
   ]
  },
  {
   "cell_type": "code",
   "execution_count": 6,
   "metadata": {
    "collapsed": false
   },
   "outputs": [],
   "source": [
    "class Cantstop:\n",
    "    def __init__(self, num_players):\n",
    "        self.num_players = num_players        # number of players\n",
    "        self.board = [[0 for x in range(11)] for y in range(num_players)]# status of the board for each player\n",
    "        self.points = [0]*num_players         # points scored by each player, i.e. number of filled columns\n",
    "        self.full = []                        # list of full columns, not playable anymore\n",
    "        self.playing = 0                      # index of the player who is playing the game\n",
    "        self.turns = 0                        # number of turns played\n",
    "        self.available_moves = []             # legal moves available to the player\n",
    "        self.player_neutral = [0]*3           # status of the neutral markers for the current player\n",
    "        self.player_board =  [0]*11           # status of the board for the current player\n",
    "        self.player_full = []                 # list of full columns, not playable anymore, for the current player\n",
    "        self.player_points = 0                # points of the current player\n",
    "        return\n",
    "    \n",
    "    def __get_dices_sum(self, dices):\n",
    "        sums = []\n",
    "        for i in range(3):\n",
    "            sums += [ [dices[3]+dices[2-i] , sum(dices) - (dices[3]+dices[2-i])] ]\n",
    "        return sums\n",
    "    \n",
    "    def __extract_next_move(self):\n",
    "        #moves = self.__get_dices_sum(np.random.random_integers(1, high=6, size=4))\n",
    "        #print moves\n",
    "        return self.__get_dices_sum(np.random.random_integers(1, high=6, size=4))\n",
    "    \n",
    "    def __get_legal_move(self, move):\n",
    "        move = [x for x in move if x not in self.player_full]\n",
    "        neutral = [x for x in self.player_neutral if x!=0]\n",
    "        if len(neutral) <= 1:\n",
    "            return [move]\n",
    "        if len(neutral) == 3:\n",
    "            return [[x for x in move if x in neutral]]\n",
    "        if len([x for x in move if x in neutral]) >= 1:\n",
    "            return [move]\n",
    "        else:\n",
    "            return [[x] for x in move]\n",
    "        return\n",
    "    \n",
    "    def __next_move(self):\n",
    "        moves = self.__extract_next_move()\n",
    "        #print moves\n",
    "        legal_moves = []\n",
    "        for move in moves:\n",
    "            #legal_moves += self.__get_legal_move(move)\n",
    "            legal_move = self.__get_legal_move(move)\n",
    "            if legal_move != [[]]:\n",
    "                legal_moves += legal_move\n",
    "        return legal_moves\n",
    "    \n",
    "    def __update_neutral(self, column):\n",
    "        index = 0\n",
    "        while self.player_neutral[index] not in [0,column]:\n",
    "            index += 1\n",
    "        if self.player_neutral[index] == 0:\n",
    "            self.player_neutral[index] = column\n",
    "        #print \"__updated neutral:\", self.player_neutral\n",
    "        return\n",
    "    \n",
    "    def __is_full(self, column):\n",
    "        return self.player_board[column-2] >= (2*(7 - abs(7 - column)) - 1)\n",
    "    \n",
    "    def __next_player(self):\n",
    "        # change player\n",
    "        self.playing = (self.playing+1)%self.num_players\n",
    "        # reset game variables\n",
    "        for index in range(len(self.player_neutral)):\n",
    "            self.player_neutral[index] = 0\n",
    "        for index in range(len(self.player_board)):\n",
    "                self.player_board[index] = self.board[self.playing][index]\n",
    "        self.player_full = self.full[:]\n",
    "        self.player_points = self.points[self.playing]\n",
    "        # update game turn\n",
    "        self.turns += 1\n",
    "        return\n",
    "    \n",
    "    def start(self):\n",
    "        # set random first player\n",
    "        self.playing = np.random.randint(self.num_players)\n",
    "        # get next move\n",
    "        self.available_moves = self.__next_move()\n",
    "        return\n",
    "    \n",
    "    # next move chosen and continue\n",
    "    def move(self, index, cont):\n",
    "        if self.available_moves == []:\n",
    "            return []\n",
    "        # update move\n",
    "        for column in self.available_moves[index]:\n",
    "            #self.board[self.playing][column-2] += 1\n",
    "            self.player_board[column-2] += 1\n",
    "            self.__update_neutral(column)\n",
    "        # check if last move has filled some column\n",
    "        for column in set(self.available_moves[index]):\n",
    "            if self.__is_full(column):\n",
    "                self.player_full += [column]\n",
    "                self.player_points += 1\n",
    "                # check if winning condition\n",
    "                if self.player_points >= 3:\n",
    "                    self.available_moves = []\n",
    "                    self.points[self.playing] = self.player_points\n",
    "                    self.full = self.player_full[:]\n",
    "                    for index in range(len(self.player_board)):\n",
    "                        self.board[self.playing][index] = self.player_board[index]\n",
    "                    return []\n",
    "        # continue or stop?\n",
    "        if cont: # continue\n",
    "            # get next move\n",
    "            self.available_moves = self.__next_move()\n",
    "        else: # stop\n",
    "            # update board\n",
    "            for index in range(len(self.player_board)):\n",
    "                self.board[self.playing][index] = self.player_board[index]\n",
    "                #self.player_board[index] = 0\n",
    "            self.points[self.playing] = self.player_points\n",
    "            self.full = self.player_full[:]\n",
    "            # empty next move\n",
    "            self.available_moves = []\n",
    "        # change player if no move available\n",
    "        while self.available_moves == []:\n",
    "            self.__next_player()\n",
    "            self.available_moves = self.__next_move()\n",
    "        return [self.playing, self.available_moves]\n",
    "    \n",
    "    def reset(self):\n",
    "        for i in range(len(self.board)):\n",
    "            for j in range(len(self.board[i])):\n",
    "                self.board[i][j] = 0\n",
    "        for i in range(len(self.points)):\n",
    "            self.points[i] = 0\n",
    "        self.full = []\n",
    "        self.playing = 0\n",
    "        self.turns = 0\n",
    "        self.available_moves = []\n",
    "        for i in range(len(self.player_neutral)):\n",
    "            self.player_neutral[i] = 0\n",
    "        for i in range(len(self.player_board)):\n",
    "            self.player_board[i] = 0\n",
    "        self.player_full = []\n",
    "        self.player_points = 0\n",
    "        return\n",
    "    "
   ]
  },
  {
   "cell_type": "code",
   "execution_count": 7,
   "metadata": {
    "collapsed": false
   },
   "outputs": [],
   "source": [
    "from IPython import display\n",
    "import time\n",
    "\n",
    "def plot_board(cantstop):\n",
    "    colors = [\"red\",\"blue\",\"green\",\"orange\"]\n",
    "    width = 1.0/cantstop.num_players\n",
    "    #fig, ax = plt.subplots()\n",
    "    n = array(range(2,13))\n",
    "    # plot max result\n",
    "    plt.bar(n, [(2*(7 - abs(7 - column)) - 1) for column in n], align=\"center\", width=1.0, color=\"black\",alpha=0.3, label=\"_back\")\n",
    "    # plot neutral markers of current player\n",
    "    #plt.bar(n-(width*(cantstop.playing)), cantstop.player_board, align=\"edge\", width=width, color=colors[cantstop.playing] ,alpha=0.5)\n",
    "    plt.bar(n-0.5+(width*(cantstop.playing)), cantstop.player_board, align=\"edge\", width=width, color=colors[cantstop.playing] ,alpha=0.5)\n",
    "    # plot all players\n",
    "    for index, (player_board, color) in enumerate(zip(cantstop.board,colors)):\n",
    "        #plt.bar(n-(width*(index)), player_board, align=\"edge\", width=width, alpha=0.5, color=color)\n",
    "        plt.bar(n-0.5+(width*(index)), player_board, align=\"edge\", width=width, alpha=1.0, color=color, label=\"_player\")\n",
    "    # legend: current player\n",
    "    plt.bar([0], [0], width=0, color=colors[cantstop.playing], label=\"player \"+str(cantstop.playing))\n",
    "    plt.legend()\n",
    "    #plt.show()\n",
    "    return\n",
    "\n",
    "def play_cantstop(cantstop, players, show=False):\n",
    "    #x = Cantstop(len(players))\n",
    "    #player = Player_random()\n",
    "    cantstop.start()\n",
    "    while cantstop.available_moves != []:\n",
    "        res = players[cantstop.playing].move(cantstop.available_moves, cantstop)\n",
    "        cantstop.move(res[0], res[1])\n",
    "        if show:\n",
    "            plt.gca().cla() \n",
    "            plot_board(cantstop)\n",
    "            display.clear_output(wait=True)\n",
    "            display.display(plt.gcf()) \n",
    "            time.sleep(0.01)\n",
    "    return [cantstop.playing, cantstop.turns]\n",
    "\n",
    "def test_play_cantstop(players, show=False):\n",
    "    x = Cantstop(len(players))\n",
    "    return play_cantstop(x, players, show)\n",
    "\n",
    "def multiple_play_cantstop(players, plays):\n",
    "    wins = [0] * len(players)\n",
    "    turns = []\n",
    "    cantstop = Cantstop(len(players))\n",
    "    for play in range(plays):\n",
    "        [last_winner, last_turns] = play_cantstop(cantstop, players, False)\n",
    "        cantstop.reset()\n",
    "        # save results\n",
    "        wins[last_winner] += 1\n",
    "        turns += [last_turns]\n",
    "    return [wins, turns]\n"
   ]
  },
  {
   "cell_type": "code",
   "execution_count": 8,
   "metadata": {
    "collapsed": true
   },
   "outputs": [],
   "source": [
    "class Player_easy(object):\n",
    "    def move(self, available_moves, cantstop):\n",
    "        return [0, False]"
   ]
  },
  {
   "cell_type": "code",
   "execution_count": 9,
   "metadata": {
    "collapsed": false
   },
   "outputs": [
    {
     "data": {
      "image/png": "[encoded data removed]",
      "text/plain": [
       "<matplotlib.figure.Figure at 0x7f63cc387490>"
      ]
     },
     "metadata": {},
     "output_type": "display_data"
    },
    {
     "name": "stdout",
     "output_type": "stream",
     "text": [
      "win player 1 in 54 turns\n"
     ]
    },
    {
     "data": {
      "image/png": "[encoded data removed]",
      "text/plain": [
       "<matplotlib.figure.Figure at 0x7f63cc387490>"
      ]
     },
     "metadata": {},
     "output_type": "display_data"
    }
   ],
   "source": [
    "res = test_play_cantstop([Player_easy(),Player_easy()], True)\n",
    "#test_play_cantstop()\n",
    "print \"win player\", res[0], \"in\", res[1], \"turns\""
   ]
  },
  {
   "cell_type": "code",
   "execution_count": 10,
   "metadata": {
    "collapsed": false
   },
   "outputs": [],
   "source": [
    "##############################\n",
    "#\n",
    "# player who chooses the next move randomly\n",
    "#\n",
    "##############################\n",
    "\n",
    "class Player_random(object):\n",
    "    def move(self, available_moves, cantstop):\n",
    "        chosen_move_index = self.__get_next_move_index(available_moves, cantstop)\n",
    "        new_player_neutral = self.__get_new_player_neutral(cantstop.player_neutral, available_moves[chosen_move_index])\n",
    "        if_continue = self.__get_if_continue(new_player_neutral, cantstop)\n",
    "        return [chosen_move_index, if_continue]\n",
    "    \n",
    "    def __get_next_move_index(self, available_moves, cantstop):\n",
    "        return np.random.random_integers(0, high=len(available_moves)-1)\n",
    "    \n",
    "    def __get_new_player_neutral(self, player_neutral, next_moves):\n",
    "        new_player_neutral = player_neutral[:]\n",
    "        for column in next_moves:\n",
    "            index = 0\n",
    "            while new_player_neutral[index] not in [0,column]:\n",
    "                index += 1\n",
    "            if new_player_neutral[index] == 0:\n",
    "                new_player_neutral[index] = column\n",
    "        return new_player_neutral\n",
    "    \n",
    "    def __get_if_continue(self, new_player_neutral, cantstop):\n",
    "        cont = True\n",
    "        if 0 not in new_player_neutral:\n",
    "            cont = (np.random.random_sample() >= probs.get_probability_to_roll(new_player_neutral))\n",
    "            #cont = (np.random.random_sample() <= 0.2)\n",
    "        return cont\n",
    "\n",
    "##############################\n",
    "#\n",
    "# player who chooses as next move the most probable one\n",
    "#\n",
    "##############################\n",
    "    \n",
    "class Player_greedy(object):\n",
    "    def move(self, available_moves, cantstop):\n",
    "        chosen_move_index = self.__get_next_move_index(available_moves, cantstop)\n",
    "        new_player_neutral = self.__get_new_player_neutral(cantstop.player_neutral, available_moves[chosen_move_index])\n",
    "        if_continue = self.__get_if_continue(new_player_neutral, cantstop)\n",
    "        return [chosen_move_index, if_continue]\n",
    "    \n",
    "    def __get_next_move_index(self, available_moves, cantstop):\n",
    "        chosen_move_index = 0\n",
    "        chosen_player_neutral = [x for x in self.__get_new_player_neutral(cantstop.player_neutral, available_moves[0]) if x != 0]\n",
    "        #chosen_player_neutral_zeros = len([x for x in chosen_player_neutral if x == 0])\n",
    "        for index, move in enumerate(available_moves[1:]):\n",
    "            new_player_neutral = [x for x in self.__get_new_player_neutral(cantstop.player_neutral, available_moves[index]) if x != 0]\n",
    "            #new_player_neutral_zeros = len([x for x in new_player_neutral if x == 0])\n",
    "            #if new_player_neutral_zeros > chosen_player_neutral_zeros:\n",
    "            if (len(new_player_neutral) < len(chosen_player_neutral)) | (len(new_player_neutral) == len(chosen_player_neutral)) & (probs.get_probability_to_roll(new_player_neutral) > probs.get_probability_to_roll(chosen_player_neutral)):\n",
    "                chosen_player_neutral = new_player_neutral[:]\n",
    "                chosen_move_index = index\n",
    "                #chosen_player_neutral_zeros = new_player_neutral_zeros\n",
    "            #elif (new_player_neutral_zeros == chosen_player_neutral_zeros) & (probs.get_probability_to_roll()):\n",
    "            #elif (len(new_player_neutral) == len(chosen_player_neutral)) & (probs.get_probability_to_roll(new_player_neutral) > probs.get_probability_to_roll(chosen_player_neutral)):\n",
    "        return chosen_move_index\n",
    "    \n",
    "    def __get_new_player_neutral(self, player_neutral, next_moves):\n",
    "        new_player_neutral = player_neutral[:]\n",
    "        for column in next_moves:\n",
    "            index = 0\n",
    "            while new_player_neutral[index] not in [0,column]:\n",
    "                index += 1\n",
    "            if new_player_neutral[index] == 0:\n",
    "                new_player_neutral[index] = column\n",
    "        return new_player_neutral\n",
    "    \n",
    "    def __get_if_continue(self, new_player_neutral, cantstop):\n",
    "        cont = True\n",
    "        if 0 not in new_player_neutral:\n",
    "            cont = (np.random.random_sample() >= probs.get_probability_to_roll(new_player_neutral))\n",
    "            #cont = (np.random.random_sample() <= 0.2)\n",
    "        return cont\n",
    "\n",
    "##############################\n",
    "#\n",
    "# player who uses Rule of 28\n",
    "#\n",
    "##############################\n",
    "\n",
    "class Player_rule28(object):\n",
    "    def move(self, available_moves, cantstop):\n",
    "        chosen_move_index = self.__get_next_move_index(available_moves, cantstop)\n",
    "        new_player_neutral = self.__get_new_player_neutral(cantstop.player_neutral, available_moves[chosen_move_index])\n",
    "        if_continue = self.__get_if_continue(new_player_neutral, available_moves[chosen_move_index], cantstop)\n",
    "        return [chosen_move_index, if_continue]\n",
    "    \n",
    "    def __get_next_move_index(self, available_moves, cantstop):\n",
    "        chosen_move_index = 0\n",
    "        chosen_score = 0\n",
    "        old_player_neutral = [x for x in cantstop.player_neutral if x != 0]\n",
    "        for index, move in enumerate(available_moves):\n",
    "            new_score = self.__get_move_score(old_player_neutral, [x for x in self.__get_new_player_neutral(cantstop.player_neutral, available_moves[index]) if x != 0])\n",
    "            if (new_score > chosen_score):\n",
    "                chosen_score = new_score\n",
    "                chosen_move_index = index\n",
    "        return chosen_move_index\n",
    "    \n",
    "    #def get_move_score(self, old_player_neutral, new_player_neutral):\n",
    "    #    return self.__get_move_score(old_player_neutral, new_player_neutral)\n",
    "    \n",
    "    def __get_move_score(self, old_player_neutral, new_player_neutral):\n",
    "        score = 0\n",
    "        for col in set(new_player_neutral):\n",
    "            p = len([x for x in new_player_neutral if x == col])\n",
    "            score += p*(6 - abs(7 - col))\n",
    "            if not(col in old_player_neutral):\n",
    "                score += -6*p\n",
    "        return score\n",
    "    \n",
    "    def __get_new_player_neutral(self, player_neutral, next_moves):\n",
    "        new_player_neutral = player_neutral[:]\n",
    "        for column in next_moves:\n",
    "            index = 0\n",
    "            while new_player_neutral[index] not in [0,column]:\n",
    "                index += 1\n",
    "            if new_player_neutral[index] == 0:\n",
    "                new_player_neutral[index] = column\n",
    "        return new_player_neutral\n",
    "    \n",
    "    def __get_if_continue(self, new_player_neutral, next_moves, cantstop):\n",
    "        player_progress = [x-y for x,y in zip(cantstop.player_board, cantstop.board[cantstop.playing])]\n",
    "        for move in next_moves:\n",
    "            player_progress[move-2] += 1\n",
    "        return (self.__get_continue_score(new_player_neutral, player_progress) < 28)\n",
    "    \n",
    "    def get_continue_score(self, new_player_neutral, player_progress):\n",
    "        return self.__get_continue_score(new_player_neutral, player_progress)\n",
    "    \n",
    "    def __get_continue_score(self, new_player_neutral, player_progress):\n",
    "        score = 0\n",
    "        for col in new_player_neutral:\n",
    "            s = player_progress[col-2]\n",
    "            score += (s+1)*(abs(7-col)+1)\n",
    "        if all([(x%2)==0 for x in new_player_neutral]):\n",
    "            score += -2\n",
    "        elif all([(x%2)==1 for x in new_player_neutral]):\n",
    "            score += 2\n",
    "        return score\n",
    "    \n",
    "##############################\n",
    "#\n",
    "# player who select next move with Rule of 28 but continues according to probability\n",
    "#\n",
    "##############################\n",
    "    \n",
    "class Player_rule28_prob(object):\n",
    "    def move(self, available_moves, cantstop):\n",
    "        chosen_move_index = self.__get_next_move_index(available_moves, cantstop)\n",
    "        new_player_neutral = self.__get_new_player_neutral(cantstop.player_neutral, available_moves[chosen_move_index])\n",
    "        if_continue = self.__get_if_continue(new_player_neutral, cantstop)\n",
    "        return [chosen_move_index, if_continue]\n",
    "    \n",
    "    def __get_next_move_index(self, available_moves, cantstop):\n",
    "        chosen_move_index = 0\n",
    "        chosen_score = 0\n",
    "        old_player_neutral = [x for x in cantstop.player_neutral if x != 0]\n",
    "        for index, move in enumerate(available_moves):\n",
    "            new_score = self.__get_move_score(old_player_neutral, [x for x in self.__get_new_player_neutral(cantstop.player_neutral, available_moves[index]) if x != 0])\n",
    "            if (new_score > chosen_score):\n",
    "                chosen_score = new_score\n",
    "                chosen_move_index = index\n",
    "        return chosen_move_index\n",
    "    \n",
    "    #def get_move_score(self, old_player_neutral, new_player_neutral):\n",
    "    #    return self.__get_move_score(old_player_neutral, new_player_neutral)\n",
    "    \n",
    "    def __get_move_score(self, old_player_neutral, new_player_neutral):\n",
    "        score = 0\n",
    "        for col in set(new_player_neutral):\n",
    "            p = len([x for x in new_player_neutral if x == col])\n",
    "            score += p*(6 - abs(7 - col))\n",
    "            if not(col in old_player_neutral):\n",
    "                score += -6*p\n",
    "        return score\n",
    "    \n",
    "    def __get_new_player_neutral(self, player_neutral, next_moves):\n",
    "        new_player_neutral = player_neutral[:]\n",
    "        for column in next_moves:\n",
    "            index = 0\n",
    "            while new_player_neutral[index] not in [0,column]:\n",
    "                index += 1\n",
    "            if new_player_neutral[index] == 0:\n",
    "                new_player_neutral[index] = column\n",
    "        return new_player_neutral\n",
    "    \n",
    "    def __get_if_continue(self, new_player_neutral, cantstop):\n",
    "        cont = True\n",
    "        if 0 not in new_player_neutral:\n",
    "            cont = (np.random.random_sample() >= probs.get_probability_to_roll(new_player_neutral))\n",
    "            #cont = (np.random.random_sample() <= 0.2)\n",
    "        return cont\n",
    "    "
   ]
  },
  {
   "cell_type": "code",
   "execution_count": 11,
   "metadata": {
    "collapsed": false
   },
   "outputs": [],
   "source": [
    "#test = Player_rule28()\n",
    "#print test.get_move_score([5,8], [8])\n",
    "#print test.get_move_score([5,8], [5,7])\n",
    "#print test.get_continue_score([4,6,10], [0,0,2,0,3,0,0,0,1,0,0])"
   ]
  },
  {
   "cell_type": "code",
   "execution_count": 12,
   "metadata": {
    "collapsed": false
   },
   "outputs": [],
   "source": [
    "#res_easy = multiple_play_cantstop([Player_easy()], 10)[1]\n",
    "res_random = multiple_play_cantstop([Player_random()], 100)[1]\n",
    "res_greedy = multiple_play_cantstop([Player_greedy()], 100)[1]\n",
    "res_rule28 = multiple_play_cantstop([Player_rule28()], 100)[1]\n",
    "res_rule28_prob = multiple_play_cantstop([Player_rule28_prob()], 100)[1]\n",
    "#boxplot_test(res[1])"
   ]
  },
  {
   "cell_type": "code",
   "execution_count": 13,
   "metadata": {
    "collapsed": false
   },
   "outputs": [
    {
     "data": {
      "image/png": "[encoded data removed]",
      "text/plain": [
       "<matplotlib.figure.Figure at 0x7f63cc387210>"
      ]
     },
     "metadata": {},
     "output_type": "display_data"
    }
   ],
   "source": [
    "def boxplot_test(lst, x_labels):\n",
    "    fig, ax = plt.subplots()\n",
    "    ax.boxplot(lst)\n",
    "    ax.set_xticklabels(x_labels)\n",
    "    plt.show()\n",
    "    return\n",
    "\n",
    "#boxplot_test([res_easy, res_random, res_greedy, res_rule28], ['Easy', 'Random', 'Greedy', 'Rule 28'])\n",
    "boxplot_test([res_random, res_greedy, res_rule28, res_rule28_prob], ['Random', 'Greedy', 'Rule 28', 'Rule 28 - prob'])\n"
   ]
  },
  {
   "cell_type": "code",
   "execution_count": 14,
   "metadata": {
    "collapsed": false
   },
   "outputs": [
    {
     "name": "stdout",
     "output_type": "stream",
     "text": [
      "win player 0 in 26 turns\n"
     ]
    }
   ],
   "source": [
    "#res = test_play_cantstop([Player_random(),Player_random()])#,Player_random(),Player_random()])#, True)\n",
    "res = test_play_cantstop([Player_greedy(),Player_random()])\n",
    "#test_play_cantstop()\n",
    "print \"win player\", res[0], \"in\", res[1], \"turns\""
   ]
  },
  {
   "cell_type": "code",
   "execution_count": 15,
   "metadata": {
    "collapsed": false
   },
   "outputs": [
    {
     "name": "stdout",
     "output_type": "stream",
     "text": [
      "[38, 62]\n"
     ]
    }
   ],
   "source": [
    "res = multiple_play_cantstop([Player_greedy(),Player_rule28()], 100)\n",
    "print res[0]"
   ]
  },
  {
   "cell_type": "code",
   "execution_count": null,
   "metadata": {
    "collapsed": true
   },
   "outputs": [],
   "source": []
  },
  {
   "cell_type": "code",
   "execution_count": null,
   "metadata": {
    "collapsed": true
   },
   "outputs": [],
   "source": []
  },
  {
   "cell_type": "code",
   "execution_count": null,
   "metadata": {
    "collapsed": true
   },
   "outputs": [],
   "source": []
  },
  {
   "cell_type": "code",
   "execution_count": null,
   "metadata": {
    "collapsed": true
   },
   "outputs": [],
   "source": []
  }
 ],
 "metadata": {
  "kernelspec": {
   "display_name": "Python 2",
   "language": "python",
   "name": "python2"
  },
  "language_info": {
   "codemirror_mode": {
    "name": "ipython",
    "version": 2
   },
   "file_extension": ".py",
   "mimetype": "text/x-python",
   "name": "python",
   "nbconvert_exporter": "python",
   "pygments_lexer": "ipython2",
   "version": "2.7.12"
  }
 },
 "nbformat": 4,
 "nbformat_minor": 0
}
